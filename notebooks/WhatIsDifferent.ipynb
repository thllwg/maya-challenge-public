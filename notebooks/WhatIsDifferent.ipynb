{
 "cells": [
  {
   "cell_type": "markdown",
   "metadata": {},
   "source": [
    "Welcome to the notebook where we ask what is different.\n",
    "Works on predictions directly!"
   ]
  },
  {
   "cell_type": "code",
   "execution_count": null,
   "metadata": {},
   "outputs": [],
   "source": [
    "import os\n",
    "import sys\n",
    "import numpy as np\n",
    "import matplotlib.pyplot as plt\n",
    "from pathlib import Path\n",
    "\n",
    "module_path = os.path.abspath(os.path.join('..'))\n",
    "if module_path not in sys.path:\n",
    "    sys.path.append(module_path)"
   ]
  },
  {
   "cell_type": "code",
   "execution_count": null,
   "metadata": {},
   "outputs": [],
   "source": [
    "def get_all_filenames(p):\n",
    "    f = sorted(p.glob('*.npy'))\n",
    "    cm = [n.name for n in f]\n",
    "    return cm"
   ]
  },
  {
   "cell_type": "code",
   "execution_count": null,
   "metadata": {},
   "outputs": [],
   "source": [
    "predictions1 = Path('../data/processed/ensemble_prediction/stefan_new')\n",
    "predictions2 = Path('../data/processed/ensemble_prediction_without_best/ensemble')\n",
    "\n",
    "all_files = get_all_filenames(predictions1)\n",
    "focus_on_mask = ['building', 'platform', 'aguada']"
   ]
  },
  {
   "cell_type": "code",
   "execution_count": null,
   "metadata": {},
   "outputs": [],
   "source": [
    "def show_diff(p1, p2, diff, labels = ['m1', 'ensemble', 'diff']):\n",
    "    fig = plt.figure(figsize=(10, 10 * 1 // 3))\n",
    "    ax = plt.subplot(1, 3, 1)\n",
    "    ax.set_title(f'{labels[0]}')\n",
    "    plt.imshow(p1)\n",
    "    ax = plt.subplot(1, 3, 2)\n",
    "    ax.set_title(f'{labels[1]}')\n",
    "    plt.imshow(p2)\n",
    "    ax = plt.subplot(1, 3, 3)\n",
    "    ax.set_title(f'{labels[2]}')\n",
    "    plt.imshow(diff)\n"
   ]
  },
  {
   "cell_type": "code",
   "execution_count": null,
   "metadata": {},
   "outputs": [],
   "source": [
    "# So what's different\n",
    "different = [] \n",
    "m  = 'building'\n",
    "\n",
    "threshold = 0.5\n",
    "\n",
    "max_to_show = 50\n",
    "sh = 0\n",
    "for f in all_files:\n",
    "    if m in f:\n",
    "        s1 = np.load(predictions1 / f)[0,:,:] \n",
    "        s1 = s1 > threshold\n",
    "        s2 = np.load(predictions2 / f)[0,:,:]\n",
    "        s1 = s1 > threshold\n",
    "        diff = s1 - s2 \n",
    "        if diff.sum() != 0:\n",
    "            show_diff(s1, s2, diff, [f'm1- {f}', 'ensemble', 'diff'])\n",
    "            sh += 1\n",
    "        if sh >= max_to_show:\n",
    "            print(f'Reached the limit of {max_to_show}')\n",
    "            break"
   ]
  }
 ],
 "metadata": {
  "interpreter": {
   "hash": "ac1e99e2690aa56f63a0938750e679ef06680bf2499a19d48b6c2449c79d1d48"
  },
  "kernelspec": {
   "display_name": "Python 3.8.6 64-bit ('maya-challenge': conda)",
   "name": "python3"
  },
  "language_info": {
   "codemirror_mode": {
    "name": "ipython",
    "version": 3
   },
   "file_extension": ".py",
   "mimetype": "text/x-python",
   "name": "python",
   "nbconvert_exporter": "python",
   "pygments_lexer": "ipython3",
   "version": "3.8.6"
  },
  "orig_nbformat": 4
 },
 "nbformat": 4,
 "nbformat_minor": 2
}